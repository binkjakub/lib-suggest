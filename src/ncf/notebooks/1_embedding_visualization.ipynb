{
 "cells": [
  {
   "cell_type": "code",
   "execution_count": null,
   "id": "hispanic-realtor",
   "metadata": {},
   "outputs": [],
   "source": [
    "import os\n",
    "import sys\n",
    "sys.path.append(os.path.join(os.getcwd(), '..', '..', '..'))"
   ]
  },
  {
   "cell_type": "code",
   "execution_count": null,
   "id": "pressed-kenya",
   "metadata": {},
   "outputs": [],
   "source": [
    "import plotly.express as px\n",
    "import numpy as np\n",
    "from sklearn import metrics"
   ]
  },
  {
   "cell_type": "code",
   "execution_count": null,
   "id": "enclosed-greek",
   "metadata": {},
   "outputs": [],
   "source": [
    "from src.ncf.models import MLP\n",
    "from src.utils.dimensionality_reduction import get_projection"
   ]
  },
  {
   "cell_type": "code",
   "execution_count": null,
   "id": "outstanding-intention",
   "metadata": {},
   "outputs": [],
   "source": [
    "CHECKPOINT_PATH = '/home/jakub/semester_3_ds/recommender_systems/logs_lib_suggest/lib_suggest_ncf/1g7ps5jy/checkpoints/MLP-epoch=01-train_ndcg=1.00-val_ndcg=1.00.ckpt'"
   ]
  },
  {
   "cell_type": "code",
   "execution_count": null,
   "id": "soviet-maximum",
   "metadata": {},
   "outputs": [],
   "source": [
    "model = MLP.load_from_checkpoint(CHECKPOINT_PATH)"
   ]
  },
  {
   "cell_type": "code",
   "execution_count": null,
   "id": "vocational-hazard",
   "metadata": {},
   "outputs": [],
   "source": [
    "lib_embeddings = model.embedding_item.weight.detach().numpy()\n",
    "lib_names = model.lib_names\n",
    "projections = get_projection(lib_embeddings, labels=model.lib_names, labels_name='library', method='umap', metric='euclidean')"
   ]
  },
  {
   "cell_type": "code",
   "execution_count": null,
   "id": "vietnamese-launch",
   "metadata": {},
   "outputs": [],
   "source": [
    "px.scatter(data_frame=projections, x='x', y='y', hover_data=['library'], height=600, width=1200)"
   ]
  },
  {
   "cell_type": "code",
   "execution_count": null,
   "id": "immune-princess",
   "metadata": {},
   "outputs": [],
   "source": [
    "def get_closest_libs(lib_name: str) -> np.ndarray:\n",
    "    (lib_index, *_), *_ = np.where(lib_names==lib_name)\n",
    "    similarity = np.abs(np.dot(lib_embeddings[lib_index], lib_embeddings.T))\n",
    "    similarity_sorted = np.argsort(similarity)[::-1]\n",
    "    return lib_names[similarity_sorted]"
   ]
  },
  {
   "cell_type": "code",
   "execution_count": null,
   "id": "stock-adams",
   "metadata": {},
   "outputs": [],
   "source": [
    "lib_name = 'scikit-learn'\n",
    "closest_libs = get_closest_libs(lib_name)[:32]\n",
    "print(f\"Libraries closest to {lib_name}\", end='\\n--->  ')\n",
    "print('\\n--->  '.join(closest_libs))"
   ]
  }
 ],
 "metadata": {
  "kernelspec": {
   "display_name": "rec_sys",
   "language": "python",
   "name": "rec_sys"
  },
  "language_info": {
   "codemirror_mode": {
    "name": "ipython",
    "version": 3
   },
   "file_extension": ".py",
   "mimetype": "text/x-python",
   "name": "python",
   "nbconvert_exporter": "python",
   "pygments_lexer": "ipython3",
   "version": "3.9.4"
  }
 },
 "nbformat": 4,
 "nbformat_minor": 5
}
