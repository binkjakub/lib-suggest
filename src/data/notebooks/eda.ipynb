{
 "cells": [
  {
   "cell_type": "code",
   "execution_count": null,
   "id": "nearby-strength",
   "metadata": {},
   "outputs": [],
   "source": [
    "%load_ext autoreload\n",
    "%autoreload 2"
   ]
  },
  {
   "cell_type": "code",
   "execution_count": null,
   "id": "contrary-belle",
   "metadata": {},
   "outputs": [],
   "source": [
    "import os\n",
    "import sys\n",
    "sys.path.append(os.path.join(os.getcwd(), '..', '..', '..'))\n",
    "\n",
    "import itertools\n",
    "from collections import Counter\n",
    "\n",
    "import matplotlib.pyplot as plt\n",
    "import pandas as pd\n",
    "import seaborn as sns\n",
    "import matplotlib.pyplot as plt\n",
    "\n",
    "from src.data.loader import load_all_datasets\n",
    "from src.utils.plots import get_simple_axis, rotate_xticklabels, make_plot\n",
    "from src.utils.df_utils import series_of_list_to_one_hot"
   ]
  },
  {
   "cell_type": "code",
   "execution_count": null,
   "id": "comfortable-honey",
   "metadata": {},
   "outputs": [],
   "source": [
    "sns.set_style(\"darkgrid\")\n",
    "sns.set_context(\"notebook\")\n",
    "sns.set(rc={'figure.figsize':(12, 5)})"
   ]
  },
  {
   "cell_type": "code",
   "execution_count": null,
   "id": "precise-nickname",
   "metadata": {},
   "outputs": [],
   "source": [
    "dataset = load_all_datasets()\n",
    "print(f\"Original dataset size: {len(dataset)}\")\n",
    "\n",
    "dataset['repo_requirements'] = dataset['repo_requirements'].apply(lambda libs: [lib_name for lib_name in libs if lib_name is not None])\n",
    "valid_data_idx = dataset['repo_requirements'].apply(lambda libs: len(libs) > 0)\n",
    "dataset = dataset[valid_data_idx]\n",
    "dataset = dataset.drop_duplicates('full_name')\n",
    "print(f\"Filtered dataset size: {len(dataset)}\")"
   ]
  },
  {
   "cell_type": "code",
   "execution_count": null,
   "id": "million-background",
   "metadata": {},
   "outputs": [],
   "source": [
    "N_TOP_LIBS = 100"
   ]
  },
  {
   "cell_type": "markdown",
   "id": "assured-buyer",
   "metadata": {},
   "source": [
    "# Basic information"
   ]
  },
  {
   "cell_type": "code",
   "execution_count": null,
   "id": "coordinate-grenada",
   "metadata": {},
   "outputs": [],
   "source": [
    "print(f\"Number of repositories: {len(dataset)}\")"
   ]
  },
  {
   "cell_type": "code",
   "execution_count": null,
   "id": "emerging-projection",
   "metadata": {},
   "outputs": [],
   "source": [
    "libs_one_hot = series_of_list_to_one_hot(dataset, 'repo_requirements')\n",
    "\n",
    "print(f\"Matrix density: {libs_one_hot.sparse.density: 0.5f}\")"
   ]
  },
  {
   "cell_type": "code",
   "execution_count": null,
   "id": "decreased-religious",
   "metadata": {},
   "outputs": [],
   "source": [
    "print('\\n'.join(dataset.columns))"
   ]
  },
  {
   "cell_type": "code",
   "execution_count": null,
   "id": "political-sierra",
   "metadata": {},
   "outputs": [],
   "source": [
    "def get_lib_flatten():\n",
    "    for lib in itertools.chain.from_iterable(dataset['repo_requirements']):\n",
    "        yield lib\n",
    "\n",
    "all_libs = set(get_lib_flatten())\n",
    "lib_counts = Counter(get_lib_flatten())\n",
    "lib_counts = pd.DataFrame.from_dict(lib_counts, orient='index', columns=['counts']).reset_index().rename(columns={'index': 'lib_name'}).sort_values('counts', ascending=False)\n",
    "lib_counts['repo_fraction'] = lib_counts['counts'] / len(dataset)\n",
    "top_libs = lib_counts.head(N_TOP_LIBS)['lib_name'].tolist()\n",
    "print(f\"Total unique libs: {len(all_libs)}\")"
   ]
  },
  {
   "cell_type": "markdown",
   "id": "moral-irish",
   "metadata": {},
   "source": [
    "# Data exploration"
   ]
  },
  {
   "cell_type": "markdown",
   "id": "improved-cooperative",
   "metadata": {},
   "source": [
    "## Basic statistics"
   ]
  },
  {
   "cell_type": "code",
   "execution_count": null,
   "id": "sunset-community",
   "metadata": {},
   "outputs": [],
   "source": [
    "grouper_freq = 'Y'\n",
    "time_grouped_ds = dataset.groupby(pd.Grouper(key='created_at', freq=grouper_freq), as_index=False).size()\n",
    "time_grouped_ds['created_at'] = time_grouped_ds['created_at'].dt.date\n",
    "ax = sns.barplot(data=time_grouped_ds, x='created_at', y='size', ci=None)\n",
    "ax.set_title(f\"Number of repos per ${grouper_freq}$\")\n",
    "plt.show()"
   ]
  },
  {
   "cell_type": "code",
   "execution_count": null,
   "id": "marine-arctic",
   "metadata": {},
   "outputs": [],
   "source": [
    "dataset['lib_num'] = dataset['repo_requirements'].map(len)\n",
    "ax = sns.histplot(data=dataset, x='lib_num', log_scale=True)\n",
    "ax.set_title(\"Number of libraries per repo\")\n",
    "plt.show()"
   ]
  },
  {
   "cell_type": "code",
   "execution_count": null,
   "id": "twenty-revision",
   "metadata": {},
   "outputs": [],
   "source": [
    "# dist_plot_cols = ['n_subscribers', 'n_stars', 'n_forks', 'n_all_issues', 'n_branches', 'n_milestones_all']\n",
    "dist_plot_cols = ['n_stars', 'n_forks', 'n_all_issues', 'n_branches', 'n_milestones_all']\n",
    "fig, axes = make_plot(n_plots=len(dist_plot_cols), n_cols=3, sharex=False, sharey=False, col_width=8, ret_fig=True)\n",
    "for col, ax in zip(dist_plot_cols, axes.flatten()):\n",
    "    sns.histplot(dataset[col], ax=ax)\n",
    "    ax.set_yscale('log')\n",
    "    ax.set_xlabel('')\n",
    "    ax.set_title(col)\n",
    "\n",
    "fig.suptitle(\"Features distributions\")\n",
    "fig.tight_layout()"
   ]
  },
  {
   "cell_type": "markdown",
   "id": "magnetic-passport",
   "metadata": {},
   "source": [
    "## Libraries analysis"
   ]
  },
  {
   "cell_type": "code",
   "execution_count": null,
   "id": "republican-canada",
   "metadata": {},
   "outputs": [],
   "source": [
    "ax = sns.barplot(data=lib_counts.iloc[:N_TOP_LIBS], x='lib_name', y='repo_fraction', ci=None, ax=get_simple_axis(width=25))\n",
    "rotate_xticklabels(ax)\n",
    "ax.set_title(\"Library popularity (fraction of repos using library)\")\n",
    "plt.show()"
   ]
  },
  {
   "cell_type": "code",
   "execution_count": null,
   "id": "ranging-chicken",
   "metadata": {},
   "outputs": [],
   "source": [
    "N_TOP_COEXISTENCE = 30\n",
    "top_libs_one_hot = libs_one_hot[top_libs[:N_TOP_COEXISTENCE]].reset_index(drop=True)\n",
    "libs_coexistence = top_libs_one_hot.T.dot(top_libs_one_hot)\n",
    "ax = sns.heatmap(data=libs_coexistence, ax=get_simple_axis(15, 10))\n",
    "ax.set_title(\"Top libraries coexistence\")\n",
    "plt.show()"
   ]
  }
 ],
 "metadata": {
  "kernelspec": {
   "display_name": "rec_sys",
   "language": "python",
   "name": "rec_sys"
  },
  "language_info": {
   "codemirror_mode": {
    "name": "ipython",
    "version": 3
   },
   "file_extension": ".py",
   "mimetype": "text/x-python",
   "name": "python",
   "nbconvert_exporter": "python",
   "pygments_lexer": "ipython3",
   "version": "3.9.4"
  }
 },
 "nbformat": 4,
 "nbformat_minor": 5
}
