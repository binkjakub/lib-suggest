{
 "cells": [
  {
   "cell_type": "code",
   "execution_count": null,
   "metadata": {},
   "outputs": [],
   "source": [
    "%load_ext autoreload\n",
    "%autoreload 2"
   ]
  },
  {
   "cell_type": "code",
   "execution_count": null,
   "metadata": {},
   "outputs": [],
   "source": [
    "import os\n",
    "import sys\n",
    "\n",
    "sys.path.append(os.path.join(os.getcwd(), '..', '..', '..'))\n",
    "\n",
    "import pandas as pd\n",
    "from tqdm import tqdm"
   ]
  },
  {
   "cell_type": "code",
   "execution_count": null,
   "metadata": {},
   "outputs": [],
   "source": [
    "from src.defaults import REPO_DS, TRAIN_DS, TEST_DS\n",
    "from src.lightfm.recommender import LightFMModel"
   ]
  },
  {
   "cell_type": "code",
   "execution_count": null,
   "metadata": {},
   "outputs": [],
   "source": [
    "train = pd.read_csv(TRAIN_DS).sort_values(by='full_name')\n",
    "test = pd.read_csv(TEST_DS)\n",
    "repo_features = pd.read_csv(REPO_DS)"
   ]
  },
  {
   "cell_type": "code",
   "execution_count": null,
   "metadata": {},
   "outputs": [],
   "source": [
    "NUM_FEATURES = ['n_all_issues', 'n_branches', 'n_closed_issues', 'n_forks',\n",
    "                'n_milestones_all', 'n_milestones_closed', 'n_milestones_open',\n",
    "                'n_open_issues', 'n_pr_all', 'n_pr_closed', 'n_pr_open', 'n_stars']"
   ]
  },
  {
   "cell_type": "code",
   "execution_count": null,
   "metadata": {},
   "outputs": [],
   "source": [
    "github_crawler = None"
   ]
  },
  {
   "cell_type": "code",
   "execution_count": null,
   "metadata": {},
   "outputs": [],
   "source": [
    "lightfm = LightFMModel(crawler=github_crawler)\n",
    "lightfm.prepare()"
   ]
  },
  {
   "cell_type": "code",
   "execution_count": null,
   "metadata": {},
   "outputs": [],
   "source": [
    "data_results = []\n",
    "\n",
    "losses = ['bpr', 'warp']\n",
    "no_components_list = [10, 25, 50]\n",
    "optimizers = ['adagrad', 'adadelta']\n",
    "user_features_types = [None, 'description', 'numerical']\n",
    "\n",
    "total = len(losses) * len(no_components_list) * len(optimizers) * len(user_features_types) * 3\n",
    "with tqdm(total=total) as pbar:\n",
    "    for loss in losses:\n",
    "        for no_components in no_components_list:\n",
    "            for optimizer in optimizers:\n",
    "                for user_features_type in user_features_types:\n",
    "                    for i in range(3):\n",
    "                        lightfm.fit(train=None, user_features_type=None,\n",
    "                                    no_components=no_components, loss=loss,\n",
    "                                    learning_schedule=optimizer)\n",
    "                        results = lightfm.evaluate(test=None)\n",
    "                        results['optimizer'] = optimizer\n",
    "                        results['no_components'] = no_components\n",
    "                        results['loss'] = loss\n",
    "                        results['user_features'] = user_features_type\n",
    "                        data_results.append(results)\n",
    "                        pbar.update(1)"
   ]
  },
  {
   "cell_type": "code",
   "execution_count": null,
   "metadata": {},
   "outputs": [],
   "source": [
    "data_results = pd.DataFrame(data_results)\n",
    "\n",
    "round(data_results.fillna('none').groupby(\n",
    "    ['optimizer', 'loss', 'no_components', 'user_features']).mean().sort_values(by='recall@5',\n",
    "                                                                                ascending=False), 3)"
   ]
  },
  {
   "cell_type": "code",
   "execution_count": null,
   "metadata": {},
   "outputs": [],
   "source": [
    "kwargs = {'user_features_type': None, 'num_epochs': 15, 'no_components': 50, 'loss': 'warp',\n",
    "          'learning_schedule': 'adagrad'}\n",
    "\n",
    "lightfm.fit(train=None, **kwargs)\n",
    "lightfm.evaluate(test=None)"
   ]
  },
  {
   "cell_type": "code",
   "execution_count": null,
   "metadata": {},
   "outputs": [],
   "source": [
    "repo_name = 'lkiesow/python-feedgen'"
   ]
  },
  {
   "cell_type": "code",
   "execution_count": null,
   "metadata": {},
   "outputs": [],
   "source": [
    "repository = github_crawler.crawl_extract_repository(repo_name)"
   ]
  },
  {
   "cell_type": "code",
   "execution_count": null,
   "metadata": {},
   "outputs": [],
   "source": [
    "this_repo_features = pd.DataFrame(repository).drop(\n",
    "    columns=['repo_requirements']).drop_duplicates()\n",
    "repository = pd.DataFrame(repository)\n",
    "this_test = repository[['full_name', 'repo_requirements']]"
   ]
  },
  {
   "cell_type": "code",
   "execution_count": null,
   "metadata": {},
   "outputs": [],
   "source": [
    "lightfm.refit_model(this_test, this_repo_features)"
   ]
  },
  {
   "cell_type": "code",
   "execution_count": null,
   "metadata": {},
   "outputs": [],
   "source": [
    "lightfm.predict_repo(repo_name)"
   ]
  },
  {
   "cell_type": "code",
   "execution_count": null,
   "metadata": {},
   "outputs": [],
   "source": [
    "lightfm.num_users"
   ]
  },
  {
   "cell_type": "code",
   "execution_count": null,
   "metadata": {},
   "outputs": [],
   "source": [
    "lightfm.num_items"
   ]
  }
 ],
 "metadata": {
  "kernelspec": {
   "display_name": "Python [conda env:lib-suggest]",
   "language": "python",
   "name": "conda-env-lib-suggest-py"
  },
  "language_info": {
   "codemirror_mode": {
    "name": "ipython",
    "version": 3
   },
   "file_extension": ".py",
   "mimetype": "text/x-python",
   "name": "python",
   "nbconvert_exporter": "python",
   "pygments_lexer": "ipython3",
   "version": "3.9.4"
  }
 },
 "nbformat": 4,
 "nbformat_minor": 4
}