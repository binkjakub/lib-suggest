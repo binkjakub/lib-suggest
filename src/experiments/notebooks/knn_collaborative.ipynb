{
 "cells": [
  {
   "cell_type": "code",
   "execution_count": null,
   "id": "ecological-bikini",
   "metadata": {},
   "outputs": [],
   "source": [
    "%load_ext autoreload\n",
    "%autoreload 2"
   ]
  },
  {
   "cell_type": "code",
   "execution_count": null,
   "id": "compact-inflation",
   "metadata": {},
   "outputs": [],
   "source": [
    "import os\n",
    "import sys\n",
    "\n",
    "MAIN_MODULE_PATH = os.path.join(os.getcwd(), '..', '..', '..')\n",
    "sys.path.append(MAIN_MODULE_PATH)"
   ]
  },
  {
   "cell_type": "code",
   "execution_count": null,
   "id": "other-thermal",
   "metadata": {},
   "outputs": [],
   "source": [
    "from collections import Counter, defaultdict\n",
    "\n",
    "import numpy as np\n",
    "import scipy\n",
    "import pandas as pd\n",
    "import seaborn as sns\n",
    "from sklearn.metrics import ndcg_score\n",
    "\n",
    "from src.dataset.prepare import prepare_interactions\n",
    "# from src.defaults import KNN_MODEL_PATH\n",
    "from src.metrics.surprise_metrics import precision_recall_at_k, ndcg_at_k"
   ]
  },
  {
   "cell_type": "code",
   "execution_count": null,
   "id": "excited-worse",
   "metadata": {},
   "outputs": [],
   "source": [
    "train, test = prepare_interactions()"
   ]
  },
  {
   "cell_type": "markdown",
   "id": "handy-static",
   "metadata": {},
   "source": [
    "# KNNsurprise"
   ]
  },
  {
   "cell_type": "code",
   "execution_count": null,
   "id": "northern-collaboration",
   "metadata": {},
   "outputs": [],
   "source": [
    "def evaluate_model(algo, test):\n",
    "    predictions = [algo.predict(row.full_name, row.repo_requirements, row.rating) for row in test.itertuples()]\n",
    "    print(predictions[:4])\n",
    "    precisions, recalls = precision_recall_at_k(predictions, k=10, threshold=0.5)\n",
    "    ndcg = ndcg_at_k(predictions, k=10, threshold=0.5)\n",
    "    precision = sum(prec for prec in precisions.values()) / len(precisions)\n",
    "    recall = sum(rec for rec in recalls.values()) / len(recalls)\n",
    "    \n",
    "    return {'model': model.__name__, 'similarity_measure': sim_measure_name, 'precision': precision, 'recall': recall, 'ndcg': ndcg}"
   ]
  },
  {
   "cell_type": "code",
   "execution_count": null,
   "id": "developed-mitchell",
   "metadata": {},
   "outputs": [],
   "source": [
    "from surprise import KNNBasic, KNNWithMeans, KNNWithZScore, KNNBaseline, NormalPredictor, BaselineOnly\n",
    "from surprise import Dataset, Reader\n",
    "from surprise.model_selection import cross_validate, KFold, train_test_split\n",
    "\n",
    "data = Dataset.load_from_df(train, Reader(rating_scale=(0, 1)))\n",
    "\n",
    "trainset = data.build_full_trainset()\n",
    "\n",
    "results = []\n",
    "\n",
    "\n",
    "for model in [KNNBasic, KNNWithMeans, KNNWithZScore, KNNBaseline]:\n",
    "    for sim_measure_name in ['cosine', 'msd', 'pearson']:\n",
    "        algo = model(sim_options = {'name': sim_measure_name})\n",
    "        algo.fit(trainset)\n",
    "        results.append(evaluate_model(algo, test))\n",
    "        \n",
    "for model in [NormalPredictor, BaselineOnly]:\n",
    "    algo = model()\n",
    "    algo.fit(trainset)\n",
    "    results.append(evaluate_model(algo, test))\n",
    "\n",
    "results = pd.DataFrame(results).sort_values(by='ndcg', ascending=False)"
   ]
  },
  {
   "cell_type": "code",
   "execution_count": null,
   "id": "sensitive-debate",
   "metadata": {},
   "outputs": [],
   "source": [
    "results.iloc[0]"
   ]
  },
  {
   "cell_type": "code",
   "execution_count": null,
   "id": "comprehensive-insulin",
   "metadata": {},
   "outputs": [],
   "source": [
    "from surprise import dump\n",
    "\n",
    "algo = KNNBasic(sim_options = {'name': 'pearson'})\n",
    "algo.fit(trainset)\n",
    "\n",
    "dump.dump(KNN_MODEL_PATH, algo=algo)"
   ]
  },
  {
   "cell_type": "code",
   "execution_count": null,
   "id": "neutral-conservation",
   "metadata": {},
   "outputs": [],
   "source": [
    "test"
   ]
  },
  {
   "cell_type": "code",
   "execution_count": null,
   "id": "offshore-diving",
   "metadata": {},
   "outputs": [],
   "source": []
  }
 ],
 "metadata": {
  "kernelspec": {
   "display_name": "lib-suggest",
   "language": "python",
   "name": "lib-suggest"
  },
  "language_info": {
   "codemirror_mode": {
    "name": "ipython",
    "version": 3
   },
   "file_extension": ".py",
   "mimetype": "text/x-python",
   "name": "python",
   "nbconvert_exporter": "python",
   "pygments_lexer": "ipython3",
   "version": "3.9.4"
  }
 },
 "nbformat": 4,
 "nbformat_minor": 5
}
