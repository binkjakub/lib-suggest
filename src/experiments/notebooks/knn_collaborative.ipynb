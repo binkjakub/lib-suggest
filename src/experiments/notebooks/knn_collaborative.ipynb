{
 "cells": [
  {
   "cell_type": "code",
   "execution_count": null,
   "id": "forward-spank",
   "metadata": {},
   "outputs": [],
   "source": [
    "%load_ext autoreload\n",
    "%autoreload 2"
   ]
  },
  {
   "cell_type": "code",
   "execution_count": null,
   "id": "demographic-pearl",
   "metadata": {},
   "outputs": [],
   "source": [
    "import os\n",
    "import sys\n",
    "\n",
    "MAIN_MODULE_PATH = os.path.join(os.getcwd(), '..', '..', '..')\n",
    "sys.path.append(MAIN_MODULE_PATH)"
   ]
  },
  {
   "cell_type": "code",
   "execution_count": null,
   "id": "pretty-combining",
   "metadata": {},
   "outputs": [],
   "source": [
    "from collections import Counter, defaultdict\n",
    "\n",
    "import numpy as np\n",
    "import scipy\n",
    "import pandas as pd\n",
    "import seaborn as sns\n",
    "from sklearn.metrics import ndcg_score\n",
    "\n",
    "from src.dataset.prepare import prepare_interactions\n",
    "# from src.defaults import REPO_DS, TRAIN_DS, TEST_DS\n",
    "from src.metrics.surprise_metrics import precision_recall_at_k, ndcg_at_k"
   ]
  },
  {
   "cell_type": "code",
   "execution_count": null,
   "id": "canadian-invite",
   "metadata": {},
   "outputs": [],
   "source": [
    "train, test = prepare_interactions()"
   ]
  },
  {
   "cell_type": "markdown",
   "id": "consolidated-agent",
   "metadata": {},
   "source": [
    "# KNNsurprise"
   ]
  },
  {
   "cell_type": "code",
   "execution_count": null,
   "id": "dental-roman",
   "metadata": {},
   "outputs": [],
   "source": [
    "from surprise import KNNBasic, KNNWithMeans, KNNWithZScore, KNNBaseline\n",
    "from surprise import Dataset, Reader\n",
    "from surprise.model_selection import cross_validate, KFold, train_test_split\n",
    "\n",
    "data = Dataset.load_from_df(train, Reader(rating_scale=(0, 1)))\n",
    "\n",
    "trainset = data.build_full_trainset()\n",
    "\n",
    "results = []\n",
    "\n",
    "\n",
    "for model in [KNNBasic, KNNWithMeans, KNNWithZScore, KNNBaseline]:\n",
    "    for sim_measure_name in ['cosine', 'msd', 'pearson']:\n",
    "        algo = model(sim_options = {'name': sim_measure_name})\n",
    "        algo.fit(trainset)\n",
    "        predictions = [algo.predict(row.full_name, row.repo_requirements, row.rating) for row in test.itertuples()]\n",
    "        precisions, recalls = precision_recall_at_k(predictions, k=10, threshold=0.5)\n",
    "        ndcg = ndcg_at_k(predictions, k=10, threshold=0.5)\n",
    "        precision = sum(prec for prec in precisions.values()) / len(precisions)\n",
    "        recall = sum(rec for rec in recalls.values()) / len(recalls)\n",
    "\n",
    "        results.append({'model': model.__name__, 'similarity_measure': sim_measure_name, 'precision': precision, 'recall': recall, 'ndcg': ndcg})\n",
    "\n",
    "results = pd.DataFrame(results)"
   ]
  },
  {
   "cell_type": "code",
   "execution_count": null,
   "id": "complex-granny",
   "metadata": {},
   "outputs": [],
   "source": [
    "results.sort_values(by='ndcg', ascending=False)"
   ]
  },
  {
   "cell_type": "code",
   "execution_count": null,
   "id": "announced-carpet",
   "metadata": {},
   "outputs": [],
   "source": []
  }
 ],
 "metadata": {
  "kernelspec": {
   "display_name": "lib-suggest",
   "language": "python",
   "name": "lib-suggest"
  },
  "language_info": {
   "codemirror_mode": {
    "name": "ipython",
    "version": 3
   },
   "file_extension": ".py",
   "mimetype": "text/x-python",
   "name": "python",
   "nbconvert_exporter": "python",
   "pygments_lexer": "ipython3",
   "version": "3.9.4"
  }
 },
 "nbformat": 4,
 "nbformat_minor": 5
}
